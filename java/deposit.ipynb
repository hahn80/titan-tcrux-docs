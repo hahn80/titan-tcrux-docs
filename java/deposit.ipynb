{
 "cells": [
  {
   "cell_type": "code",
   "execution_count": null,
   "metadata": {},
   "outputs": [],
   "source": [
    "from titan.tcrux.services import tcrux_multi_tasking"
   ]
  },
  {
   "cell_type": "markdown",
   "metadata": {},
   "source": [
    "Run the service to train the logistic model for banking problem.\n",
    "\n",
    "The output will be a Hashmap with score, recall, precision, and saved_model"
   ]
  },
  {
   "cell_type": "code",
   "execution_count": 4,
   "metadata": {},
   "outputs": [],
   "source": [
    "params_train = [\n",
    "    {\n",
    "        \"task\": \"loading\",\n",
    "        \"action\": \"load_dataframe\",\n",
    "        \"kwargs\": {\"input_arrow\": \"tests/resources/logistic.arrow\"},\n",
    "    },\n",
    "    {\n",
    "        \"task\": \"regression\",\n",
    "        \"action\": \"logistic_regression\",\n",
    "        \"kwargs\": {\n",
    "            \"target\": \"deposit\",\n",
    "            \"stratify_column\": \"loan\",\n",
    "            \"model_saved_path\": \"logistic_model.pkl\",\n",
    "            \"processors\": {\n",
    "                \"numerical_columns\": [\n",
    "                    \"age\",\n",
    "                    \"balance\",\n",
    "                    \"day\",\n",
    "                    \"campaign\",\n",
    "                    \"pdays\",\n",
    "                    \"previous\",\n",
    "                    \"duration\",\n",
    "                ],\n",
    "                \"categorical_columns\": [\n",
    "                    \"job\",\n",
    "                    \"marital\",\n",
    "                    \"education\",\n",
    "                    \"default\",\n",
    "                    \"housing\",\n",
    "                    \"loan\",\n",
    "                ],\n",
    "            },\n",
    "        },\n",
    "    },\n",
    "]"
   ]
  },
  {
   "cell_type": "code",
   "execution_count": 5,
   "metadata": {},
   "outputs": [],
   "source": [
    "result = tcrux_multi_tasking(params_train)"
   ]
  },
  {
   "cell_type": "code",
   "execution_count": 6,
   "metadata": {},
   "outputs": [
    {
     "data": {
      "text/plain": [
       "{'score': 0.7819077474249888,\n",
       " 'precision': 0.7850834151128557,\n",
       " 'recall': 0.7490636704119851,\n",
       " 'model_saved_path': 'logistic_model.pkl'}"
      ]
     },
     "execution_count": 6,
     "metadata": {},
     "output_type": "execute_result"
    }
   ],
   "source": [
    "result"
   ]
  },
  {
   "cell_type": "markdown",
   "metadata": {},
   "source": [
    "Now we can predict model from saved model. The input data has the form."
   ]
  },
  {
   "cell_type": "code",
   "execution_count": 13,
   "metadata": {},
   "outputs": [],
   "source": [
    "# read data from arrow file\n",
    "import polars as pl"
   ]
  },
  {
   "cell_type": "code",
   "execution_count": 15,
   "metadata": {},
   "outputs": [
    {
     "name": "stderr",
     "output_type": "stream",
     "text": [
      "Could not memory_map compressed IPC file, defaulting to normal read. Toggle off 'memory_map' to silence this warning.\n"
     ]
    }
   ],
   "source": [
    "test_data = pl.read_ipc(\"tests/resources/logistic_test.arrow\")"
   ]
  },
  {
   "cell_type": "markdown",
   "metadata": {},
   "source": [
    "The test data has the same form as original data set, except the deposit column does not exist."
   ]
  },
  {
   "cell_type": "code",
   "execution_count": 17,
   "metadata": {},
   "outputs": [
    {
     "data": {
      "text/html": [
       "<div><style>\n",
       ".dataframe > thead > tr,\n",
       ".dataframe > tbody > tr {\n",
       "  text-align: right;\n",
       "  white-space: pre-wrap;\n",
       "}\n",
       "</style>\n",
       "<small>shape: (10, 16)</small><table border=\"1\" class=\"dataframe\"><thead><tr><th>age</th><th>job</th><th>marital</th><th>education</th><th>default</th><th>balance</th><th>housing</th><th>loan</th><th>contact</th><th>day</th><th>month</th><th>duration</th><th>campaign</th><th>pdays</th><th>previous</th><th>poutcome</th></tr><tr><td>i64</td><td>str</td><td>str</td><td>str</td><td>str</td><td>i64</td><td>str</td><td>str</td><td>str</td><td>i64</td><td>str</td><td>i64</td><td>i64</td><td>i64</td><td>i64</td><td>str</td></tr></thead><tbody><tr><td>34</td><td>&quot;blue-collar&quot;</td><td>&quot;divorced&quot;</td><td>&quot;secondary&quot;</td><td>&quot;no&quot;</td><td>0</td><td>&quot;yes&quot;</td><td>&quot;no&quot;</td><td>&quot;cellular&quot;</td><td>5</td><td>&quot;may&quot;</td><td>150</td><td>1</td><td>-1</td><td>0</td><td>&quot;unknown&quot;</td></tr><tr><td>36</td><td>&quot;blue-collar&quot;</td><td>&quot;married&quot;</td><td>&quot;secondary&quot;</td><td>&quot;no&quot;</td><td>29</td><td>&quot;yes&quot;</td><td>&quot;yes&quot;</td><td>&quot;cellular&quot;</td><td>31</td><td>&quot;jul&quot;</td><td>345</td><td>1</td><td>-1</td><td>0</td><td>&quot;unknown&quot;</td></tr><tr><td>31</td><td>&quot;blue-collar&quot;</td><td>&quot;married&quot;</td><td>&quot;secondary&quot;</td><td>&quot;no&quot;</td><td>435</td><td>&quot;yes&quot;</td><td>&quot;no&quot;</td><td>&quot;unknown&quot;</td><td>21</td><td>&quot;may&quot;</td><td>204</td><td>1</td><td>-1</td><td>0</td><td>&quot;unknown&quot;</td></tr><tr><td>36</td><td>&quot;blue-collar&quot;</td><td>&quot;divorced&quot;</td><td>&quot;secondary&quot;</td><td>&quot;no&quot;</td><td>7051</td><td>&quot;no&quot;</td><td>&quot;yes&quot;</td><td>&quot;cellular&quot;</td><td>15</td><td>&quot;jul&quot;</td><td>106</td><td>13</td><td>-1</td><td>0</td><td>&quot;unknown&quot;</td></tr><tr><td>31</td><td>&quot;admin.&quot;</td><td>&quot;married&quot;</td><td>&quot;secondary&quot;</td><td>&quot;no&quot;</td><td>8781</td><td>&quot;yes&quot;</td><td>&quot;no&quot;</td><td>&quot;cellular&quot;</td><td>14</td><td>&quot;may&quot;</td><td>680</td><td>1</td><td>177</td><td>1</td><td>&quot;success&quot;</td></tr><tr><td>66</td><td>&quot;housemaid&quot;</td><td>&quot;married&quot;</td><td>&quot;primary&quot;</td><td>&quot;no&quot;</td><td>40</td><td>&quot;no&quot;</td><td>&quot;no&quot;</td><td>&quot;telephone&quot;</td><td>14</td><td>&quot;oct&quot;</td><td>290</td><td>2</td><td>-1</td><td>0</td><td>&quot;unknown&quot;</td></tr><tr><td>26</td><td>&quot;blue-collar&quot;</td><td>&quot;married&quot;</td><td>&quot;secondary&quot;</td><td>&quot;no&quot;</td><td>557</td><td>&quot;yes&quot;</td><td>&quot;yes&quot;</td><td>&quot;unknown&quot;</td><td>27</td><td>&quot;may&quot;</td><td>282</td><td>2</td><td>-1</td><td>0</td><td>&quot;unknown&quot;</td></tr><tr><td>39</td><td>&quot;services&quot;</td><td>&quot;married&quot;</td><td>&quot;secondary&quot;</td><td>&quot;no&quot;</td><td>20928</td><td>&quot;no&quot;</td><td>&quot;no&quot;</td><td>&quot;cellular&quot;</td><td>14</td><td>&quot;may&quot;</td><td>1166</td><td>1</td><td>352</td><td>1</td><td>&quot;other&quot;</td></tr><tr><td>25</td><td>&quot;blue-collar&quot;</td><td>&quot;married&quot;</td><td>&quot;secondary&quot;</td><td>&quot;no&quot;</td><td>101</td><td>&quot;no&quot;</td><td>&quot;yes&quot;</td><td>&quot;cellular&quot;</td><td>8</td><td>&quot;jul&quot;</td><td>460</td><td>3</td><td>-1</td><td>0</td><td>&quot;unknown&quot;</td></tr><tr><td>53</td><td>&quot;blue-collar&quot;</td><td>&quot;married&quot;</td><td>&quot;primary&quot;</td><td>&quot;no&quot;</td><td>2295</td><td>&quot;no&quot;</td><td>&quot;no&quot;</td><td>&quot;cellular&quot;</td><td>21</td><td>&quot;aug&quot;</td><td>65</td><td>10</td><td>-1</td><td>0</td><td>&quot;unknown&quot;</td></tr></tbody></table></div>"
      ],
      "text/plain": [
       "shape: (10, 16)\n",
       "┌─────┬─────────────┬──────────┬───────────┬───┬──────────┬───────┬──────────┬──────────┐\n",
       "│ age ┆ job         ┆ marital  ┆ education ┆ … ┆ campaign ┆ pdays ┆ previous ┆ poutcome │\n",
       "│ --- ┆ ---         ┆ ---      ┆ ---       ┆   ┆ ---      ┆ ---   ┆ ---      ┆ ---      │\n",
       "│ i64 ┆ str         ┆ str      ┆ str       ┆   ┆ i64      ┆ i64   ┆ i64      ┆ str      │\n",
       "╞═════╪═════════════╪══════════╪═══════════╪═══╪══════════╪═══════╪══════════╪══════════╡\n",
       "│ 34  ┆ blue-collar ┆ divorced ┆ secondary ┆ … ┆ 1        ┆ -1    ┆ 0        ┆ unknown  │\n",
       "│ 36  ┆ blue-collar ┆ married  ┆ secondary ┆ … ┆ 1        ┆ -1    ┆ 0        ┆ unknown  │\n",
       "│ 31  ┆ blue-collar ┆ married  ┆ secondary ┆ … ┆ 1        ┆ -1    ┆ 0        ┆ unknown  │\n",
       "│ 36  ┆ blue-collar ┆ divorced ┆ secondary ┆ … ┆ 13       ┆ -1    ┆ 0        ┆ unknown  │\n",
       "│ 31  ┆ admin.      ┆ married  ┆ secondary ┆ … ┆ 1        ┆ 177   ┆ 1        ┆ success  │\n",
       "│ 66  ┆ housemaid   ┆ married  ┆ primary   ┆ … ┆ 2        ┆ -1    ┆ 0        ┆ unknown  │\n",
       "│ 26  ┆ blue-collar ┆ married  ┆ secondary ┆ … ┆ 2        ┆ -1    ┆ 0        ┆ unknown  │\n",
       "│ 39  ┆ services    ┆ married  ┆ secondary ┆ … ┆ 1        ┆ 352   ┆ 1        ┆ other    │\n",
       "│ 25  ┆ blue-collar ┆ married  ┆ secondary ┆ … ┆ 3        ┆ -1    ┆ 0        ┆ unknown  │\n",
       "│ 53  ┆ blue-collar ┆ married  ┆ primary   ┆ … ┆ 10       ┆ -1    ┆ 0        ┆ unknown  │\n",
       "└─────┴─────────────┴──────────┴───────────┴───┴──────────┴───────┴──────────┴──────────┘"
      ]
     },
     "execution_count": 17,
     "metadata": {},
     "output_type": "execute_result"
    }
   ],
   "source": [
    "test_data"
   ]
  },
  {
   "cell_type": "code",
   "execution_count": 18,
   "metadata": {},
   "outputs": [],
   "source": [
    "params_test = [\n",
    "    {\n",
    "        \"task\": \"loading\",\n",
    "        \"action\": \"load_dataframe\",\n",
    "        \"kwargs\": {\"input_arrow\": \"tests/resources/logistic_test.arrow\"},\n",
    "    },\n",
    "    {\n",
    "        \"task\": \"regression\",\n",
    "        \"action\": \"logistic_predict\",\n",
    "        \"kwargs\": {\n",
    "            \"model_saved_path\": \"logistic_model.pkl\",\n",
    "            \"target\": \"predicted_deposit\",\n",
    "        },\n",
    "    },\n",
    "    {\n",
    "        \"task\": \"saving\",\n",
    "        \"action\": \"write_dataframe\",\n",
    "        \"kwargs\": {\n",
    "            \"output_arrow\": \"predicted.arrow\",\n",
    "            \"batch_size\": 20,\n",
    "            \"reformat_string\": True,\n",
    "        },\n",
    "    },\n",
    "]"
   ]
  },
  {
   "cell_type": "code",
   "execution_count": 19,
   "metadata": {},
   "outputs": [
    {
     "data": {
      "text/plain": [
       "'predicted.arrow'"
      ]
     },
     "execution_count": 19,
     "metadata": {},
     "output_type": "execute_result"
    }
   ],
   "source": [
    "tcrux_multi_tasking(params_test)"
   ]
  },
  {
   "cell_type": "code",
   "execution_count": 20,
   "metadata": {},
   "outputs": [
    {
     "data": {
      "text/html": [
       "<div><style>\n",
       ".dataframe > thead > tr,\n",
       ".dataframe > tbody > tr {\n",
       "  text-align: right;\n",
       "  white-space: pre-wrap;\n",
       "}\n",
       "</style>\n",
       "<small>shape: (10, 17)</small><table border=\"1\" class=\"dataframe\"><thead><tr><th>age</th><th>job</th><th>marital</th><th>education</th><th>default</th><th>balance</th><th>housing</th><th>loan</th><th>contact</th><th>day</th><th>month</th><th>duration</th><th>campaign</th><th>pdays</th><th>previous</th><th>poutcome</th><th>predicted_deposit</th></tr><tr><td>i64</td><td>str</td><td>str</td><td>str</td><td>str</td><td>i64</td><td>str</td><td>str</td><td>str</td><td>i64</td><td>str</td><td>i64</td><td>i64</td><td>i64</td><td>i64</td><td>str</td><td>str</td></tr></thead><tbody><tr><td>34</td><td>&quot;blue-collar&quot;</td><td>&quot;divorced&quot;</td><td>&quot;secondary&quot;</td><td>&quot;no&quot;</td><td>0</td><td>&quot;yes&quot;</td><td>&quot;no&quot;</td><td>&quot;cellular&quot;</td><td>5</td><td>&quot;may&quot;</td><td>150</td><td>1</td><td>-1</td><td>0</td><td>&quot;unknown&quot;</td><td>&quot;no&quot;</td></tr><tr><td>36</td><td>&quot;blue-collar&quot;</td><td>&quot;married&quot;</td><td>&quot;secondary&quot;</td><td>&quot;no&quot;</td><td>29</td><td>&quot;yes&quot;</td><td>&quot;yes&quot;</td><td>&quot;cellular&quot;</td><td>31</td><td>&quot;jul&quot;</td><td>345</td><td>1</td><td>-1</td><td>0</td><td>&quot;unknown&quot;</td><td>&quot;no&quot;</td></tr><tr><td>31</td><td>&quot;blue-collar&quot;</td><td>&quot;married&quot;</td><td>&quot;secondary&quot;</td><td>&quot;no&quot;</td><td>435</td><td>&quot;yes&quot;</td><td>&quot;no&quot;</td><td>&quot;unknown&quot;</td><td>21</td><td>&quot;may&quot;</td><td>204</td><td>1</td><td>-1</td><td>0</td><td>&quot;unknown&quot;</td><td>&quot;no&quot;</td></tr><tr><td>36</td><td>&quot;blue-collar&quot;</td><td>&quot;divorced&quot;</td><td>&quot;secondary&quot;</td><td>&quot;no&quot;</td><td>7051</td><td>&quot;no&quot;</td><td>&quot;yes&quot;</td><td>&quot;cellular&quot;</td><td>15</td><td>&quot;jul&quot;</td><td>106</td><td>13</td><td>-1</td><td>0</td><td>&quot;unknown&quot;</td><td>&quot;no&quot;</td></tr><tr><td>31</td><td>&quot;admin.&quot;</td><td>&quot;married&quot;</td><td>&quot;secondary&quot;</td><td>&quot;no&quot;</td><td>8781</td><td>&quot;yes&quot;</td><td>&quot;no&quot;</td><td>&quot;cellular&quot;</td><td>14</td><td>&quot;may&quot;</td><td>680</td><td>1</td><td>177</td><td>1</td><td>&quot;success&quot;</td><td>&quot;yes&quot;</td></tr><tr><td>66</td><td>&quot;housemaid&quot;</td><td>&quot;married&quot;</td><td>&quot;primary&quot;</td><td>&quot;no&quot;</td><td>40</td><td>&quot;no&quot;</td><td>&quot;no&quot;</td><td>&quot;telephone&quot;</td><td>14</td><td>&quot;oct&quot;</td><td>290</td><td>2</td><td>-1</td><td>0</td><td>&quot;unknown&quot;</td><td>&quot;no&quot;</td></tr><tr><td>26</td><td>&quot;blue-collar&quot;</td><td>&quot;married&quot;</td><td>&quot;secondary&quot;</td><td>&quot;no&quot;</td><td>557</td><td>&quot;yes&quot;</td><td>&quot;yes&quot;</td><td>&quot;unknown&quot;</td><td>27</td><td>&quot;may&quot;</td><td>282</td><td>2</td><td>-1</td><td>0</td><td>&quot;unknown&quot;</td><td>&quot;no&quot;</td></tr><tr><td>39</td><td>&quot;services&quot;</td><td>&quot;married&quot;</td><td>&quot;secondary&quot;</td><td>&quot;no&quot;</td><td>20928</td><td>&quot;no&quot;</td><td>&quot;no&quot;</td><td>&quot;cellular&quot;</td><td>14</td><td>&quot;may&quot;</td><td>1166</td><td>1</td><td>352</td><td>1</td><td>&quot;other&quot;</td><td>&quot;yes&quot;</td></tr><tr><td>25</td><td>&quot;blue-collar&quot;</td><td>&quot;married&quot;</td><td>&quot;secondary&quot;</td><td>&quot;no&quot;</td><td>101</td><td>&quot;no&quot;</td><td>&quot;yes&quot;</td><td>&quot;cellular&quot;</td><td>8</td><td>&quot;jul&quot;</td><td>460</td><td>3</td><td>-1</td><td>0</td><td>&quot;unknown&quot;</td><td>&quot;no&quot;</td></tr><tr><td>53</td><td>&quot;blue-collar&quot;</td><td>&quot;married&quot;</td><td>&quot;primary&quot;</td><td>&quot;no&quot;</td><td>2295</td><td>&quot;no&quot;</td><td>&quot;no&quot;</td><td>&quot;cellular&quot;</td><td>21</td><td>&quot;aug&quot;</td><td>65</td><td>10</td><td>-1</td><td>0</td><td>&quot;unknown&quot;</td><td>&quot;no&quot;</td></tr></tbody></table></div>"
      ],
      "text/plain": [
       "shape: (10, 17)\n",
       "┌─────┬─────────────┬──────────┬───────────┬───┬───────┬──────────┬──────────┬───────────────────┐\n",
       "│ age ┆ job         ┆ marital  ┆ education ┆ … ┆ pdays ┆ previous ┆ poutcome ┆ predicted_deposit │\n",
       "│ --- ┆ ---         ┆ ---      ┆ ---       ┆   ┆ ---   ┆ ---      ┆ ---      ┆ ---               │\n",
       "│ i64 ┆ str         ┆ str      ┆ str       ┆   ┆ i64   ┆ i64      ┆ str      ┆ str               │\n",
       "╞═════╪═════════════╪══════════╪═══════════╪═══╪═══════╪══════════╪══════════╪═══════════════════╡\n",
       "│ 34  ┆ blue-collar ┆ divorced ┆ secondary ┆ … ┆ -1    ┆ 0        ┆ unknown  ┆ no                │\n",
       "│ 36  ┆ blue-collar ┆ married  ┆ secondary ┆ … ┆ -1    ┆ 0        ┆ unknown  ┆ no                │\n",
       "│ 31  ┆ blue-collar ┆ married  ┆ secondary ┆ … ┆ -1    ┆ 0        ┆ unknown  ┆ no                │\n",
       "│ 36  ┆ blue-collar ┆ divorced ┆ secondary ┆ … ┆ -1    ┆ 0        ┆ unknown  ┆ no                │\n",
       "│ 31  ┆ admin.      ┆ married  ┆ secondary ┆ … ┆ 177   ┆ 1        ┆ success  ┆ yes               │\n",
       "│ 66  ┆ housemaid   ┆ married  ┆ primary   ┆ … ┆ -1    ┆ 0        ┆ unknown  ┆ no                │\n",
       "│ 26  ┆ blue-collar ┆ married  ┆ secondary ┆ … ┆ -1    ┆ 0        ┆ unknown  ┆ no                │\n",
       "│ 39  ┆ services    ┆ married  ┆ secondary ┆ … ┆ 352   ┆ 1        ┆ other    ┆ yes               │\n",
       "│ 25  ┆ blue-collar ┆ married  ┆ secondary ┆ … ┆ -1    ┆ 0        ┆ unknown  ┆ no                │\n",
       "│ 53  ┆ blue-collar ┆ married  ┆ primary   ┆ … ┆ -1    ┆ 0        ┆ unknown  ┆ no                │\n",
       "└─────┴─────────────┴──────────┴───────────┴───┴───────┴──────────┴──────────┴───────────────────┘"
      ]
     },
     "execution_count": 20,
     "metadata": {},
     "output_type": "execute_result"
    }
   ],
   "source": [
    "pl.read_ipc(\"predicted.arrow\")"
   ]
  }
 ],
 "metadata": {
  "kernelspec": {
   "display_name": "Python 3",
   "language": "python",
   "name": "python3"
  },
  "language_info": {
   "codemirror_mode": {
    "name": "ipython",
    "version": 3
   },
   "file_extension": ".py",
   "mimetype": "text/x-python",
   "name": "python",
   "nbconvert_exporter": "python",
   "pygments_lexer": "ipython3",
   "version": "3.10.12"
  },
  "title": "Untitled-Jupyter"
 },
 "nbformat": 4,
 "nbformat_minor": 2
}
